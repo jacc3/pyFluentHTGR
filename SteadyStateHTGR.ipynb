{
 "cells": [
  {
   "cell_type": "markdown",
   "id": "625a7aea",
   "metadata": {},
   "source": [
    "# Steady State HTGR PyFLUENT Integration\n",
    "*This code below installs PyFluent, imports .cas (case) file, hyper-initializes, runs calculation, saves, and displays the temperature profile.*\n",
    "*Ansys Fluent Version 2024 R2 MUST BE USED. Ran on CAEN computer @ UM*"
   ]
  },
  {
   "cell_type": "markdown",
   "id": "735046af",
   "metadata": {},
   "source": [
    "## Imports for pyfluent, Matplotlib, and os; Ansys Fluent Core Installation"
   ]
  },
  {
   "cell_type": "code",
   "execution_count": 1,
   "id": "9d6eb480",
   "metadata": {},
   "outputs": [
    {
     "name": "stdout",
     "output_type": "stream",
     "text": [
      "Requirement already satisfied: ansys.fluent.core in c:\\vapps\\anaconda3\\lib\\site-packages (0.28.1)\n",
      "Requirement already satisfied: ansys-api-fluent<0.4.0,>=0.3.30 in c:\\vapps\\anaconda3\\lib\\site-packages (from ansys.fluent.core) (0.3.31)\n",
      "Requirement already satisfied: ansys-platform-instancemanagement<2.0,>=1.0 in c:\\vapps\\anaconda3\\lib\\site-packages (from ansys.fluent.core) (1.1.2)\n",
      "Requirement already satisfied: ansys-tools-filetransfer<0.3,>=0.1 in c:\\vapps\\anaconda3\\lib\\site-packages (from ansys.fluent.core) (0.1.1)\n",
      "Requirement already satisfied: ansys-units<0.5,>=0.3.3 in c:\\vapps\\anaconda3\\lib\\site-packages (from ansys.fluent.core) (0.3.4)\n",
      "Requirement already satisfied: docker>=7.1.0 in c:\\vapps\\anaconda3\\lib\\site-packages (from ansys.fluent.core) (7.1.0)\n",
      "Requirement already satisfied: grpcio<2.0.0,>=1.30.0 in c:\\vapps\\anaconda3\\lib\\site-packages (from ansys.fluent.core) (1.69.0)\n",
      "Requirement already satisfied: grpcio-health-checking<2.0.0,>=1.30.0 in c:\\vapps\\anaconda3\\lib\\site-packages (from ansys.fluent.core) (1.62.3)\n",
      "Requirement already satisfied: lxml>=4.9.2 in c:\\vapps\\anaconda3\\lib\\site-packages (from ansys.fluent.core) (4.9.2)\n",
      "Requirement already satisfied: nltk>=3.9.1 in c:\\vapps\\anaconda3\\lib\\site-packages (from ansys.fluent.core) (3.9.1)\n",
      "Requirement already satisfied: numpy<3.0.0,>=1.14.0 in c:\\vapps\\anaconda3\\lib\\site-packages (from ansys.fluent.core) (1.24.3)\n",
      "Requirement already satisfied: pandas<2.3,>=1.1.0 in c:\\vapps\\anaconda3\\lib\\site-packages (from ansys.fluent.core) (1.5.3)\n",
      "Requirement already satisfied: pyyaml>=6.0 in c:\\vapps\\anaconda3\\lib\\site-packages (from ansys.fluent.core) (6.0)\n",
      "Requirement already satisfied: protobuf<5,>=3.19 in c:\\vapps\\anaconda3\\lib\\site-packages (from ansys-api-fluent<0.4.0,>=0.3.30->ansys.fluent.core) (4.25.5)\n",
      "Requirement already satisfied: importlib-metadata>=4.0 in c:\\vapps\\anaconda3\\lib\\site-packages (from ansys-platform-instancemanagement<2.0,>=1.0->ansys.fluent.core) (6.0.0)\n",
      "Requirement already satisfied: ansys-api-platform-instancemanagement~=1.0 in c:\\vapps\\anaconda3\\lib\\site-packages (from ansys-platform-instancemanagement<2.0,>=1.0->ansys.fluent.core) (1.1.0)\n",
      "Requirement already satisfied: ansys-api-tools-filetransfer<0.2.0,>=0.1.0 in c:\\vapps\\anaconda3\\lib\\site-packages (from ansys-tools-filetransfer<0.3,>=0.1->ansys.fluent.core) (0.1.1)\n",
      "Requirement already satisfied: pdf2image>=1.17.0 in c:\\vapps\\anaconda3\\lib\\site-packages (from ansys-units<0.5,>=0.3.3->ansys.fluent.core) (1.17.0)\n",
      "Requirement already satisfied: pywin32>=304 in c:\\vapps\\anaconda3\\lib\\site-packages (from docker>=7.1.0->ansys.fluent.core) (305.1)\n",
      "Requirement already satisfied: requests>=2.26.0 in c:\\vapps\\anaconda3\\lib\\site-packages (from docker>=7.1.0->ansys.fluent.core) (2.29.0)\n",
      "Requirement already satisfied: urllib3>=1.26.0 in c:\\vapps\\anaconda3\\lib\\site-packages (from docker>=7.1.0->ansys.fluent.core) (1.26.16)\n",
      "Requirement already satisfied: click in c:\\vapps\\anaconda3\\lib\\site-packages (from nltk>=3.9.1->ansys.fluent.core) (8.0.4)\n",
      "Requirement already satisfied: joblib in c:\\vapps\\anaconda3\\lib\\site-packages (from nltk>=3.9.1->ansys.fluent.core) (1.2.0)\n",
      "Requirement already satisfied: regex>=2021.8.3 in c:\\vapps\\anaconda3\\lib\\site-packages (from nltk>=3.9.1->ansys.fluent.core) (2022.7.9)\n",
      "Requirement already satisfied: tqdm in c:\\vapps\\anaconda3\\lib\\site-packages (from nltk>=3.9.1->ansys.fluent.core) (4.65.0)\n",
      "Requirement already satisfied: python-dateutil>=2.8.1 in c:\\vapps\\anaconda3\\lib\\site-packages (from pandas<2.3,>=1.1.0->ansys.fluent.core) (2.8.2)\n",
      "Requirement already satisfied: pytz>=2020.1 in c:\\vapps\\anaconda3\\lib\\site-packages (from pandas<2.3,>=1.1.0->ansys.fluent.core) (2022.7)\n",
      "Requirement already satisfied: zipp>=0.5 in c:\\vapps\\anaconda3\\lib\\site-packages (from importlib-metadata>=4.0->ansys-platform-instancemanagement<2.0,>=1.0->ansys.fluent.core) (3.11.0)\n",
      "Requirement already satisfied: pillow in c:\\vapps\\anaconda3\\lib\\site-packages (from pdf2image>=1.17.0->ansys-units<0.5,>=0.3.3->ansys.fluent.core) (9.4.0)\n",
      "Requirement already satisfied: six>=1.5 in c:\\vapps\\anaconda3\\lib\\site-packages (from python-dateutil>=2.8.1->pandas<2.3,>=1.1.0->ansys.fluent.core) (1.16.0)\n",
      "Requirement already satisfied: charset-normalizer<4,>=2 in c:\\vapps\\anaconda3\\lib\\site-packages (from requests>=2.26.0->docker>=7.1.0->ansys.fluent.core) (2.0.4)\n",
      "Requirement already satisfied: idna<4,>=2.5 in c:\\vapps\\anaconda3\\lib\\site-packages (from requests>=2.26.0->docker>=7.1.0->ansys.fluent.core) (3.4)\n",
      "Requirement already satisfied: certifi>=2017.4.17 in c:\\vapps\\anaconda3\\lib\\site-packages (from requests>=2.26.0->docker>=7.1.0->ansys.fluent.core) (2023.7.22)\n",
      "Requirement already satisfied: colorama in c:\\vapps\\anaconda3\\lib\\site-packages (from click->nltk>=3.9.1->ansys.fluent.core) (0.4.6)\n"
     ]
    }
   ],
   "source": [
    "%matplotlib inline\n",
    "!pip install ansys.fluent.core\n",
    "import ansys.fluent.core as pyfluent\n",
    "import os \n",
    "import warnings"
   ]
  },
  {
   "cell_type": "markdown",
   "id": "6cd8b785",
   "metadata": {},
   "source": [
    "## Verify Fluent Path"
   ]
  },
  {
   "cell_type": "code",
   "execution_count": 2,
   "id": "81e83c74",
   "metadata": {},
   "outputs": [
    {
     "name": "stdout",
     "output_type": "stream",
     "text": [
      "Fluent executable found: True\n"
     ]
    }
   ],
   "source": [
    "fluent_path = r\"C:\\Program Files\\ANSYS Inc\\v242\\fluent\\ntbin\\win64\\fluent.exe\"\n",
    "print(\"Fluent executable found:\", os.path.exists(fluent_path))"
   ]
  },
  {
   "cell_type": "markdown",
   "id": "6407c3a6",
   "metadata": {},
   "source": [
    "## Fluent GUI Launch\n",
    "To hide GUI, set show_gui = False"
   ]
  },
  {
   "cell_type": "code",
   "execution_count": 3,
   "id": "30b51c9c",
   "metadata": {},
   "outputs": [
    {
     "name": "stderr",
     "output_type": "stream",
     "text": [
      "pyfluent.general WARNING: Using 'ui_mode = UIMode.GUI' for 'launch_fluent()' instead of 'show_gui = True'.\n"
     ]
    },
    {
     "data": {
      "text/plain": [
       "True"
      ]
     },
     "execution_count": 3,
     "metadata": {},
     "output_type": "execute_result"
    }
   ],
   "source": [
    "warnings.filterwarnings(\"ignore\")\n",
    "os.environ[\"AWP_ROOT\"] = r\"C:\\Program Files\\ANSYS Inc\\v242\\fluent\\ntbin\\win64\"\n",
    "fluent_path = r\"C:\\Program Files\\ANSYS Inc\\v242\\fluent\\ntbin\\win64\\fluent.exe\"\n",
    "\n",
    "if not os.path.exists(fluent_path):\n",
    "    raise FileNotFoundError(f\"Fluent executable not found at {fluent_path}\")\n",
    "\n",
    "solver = pyfluent.launch_fluent(show_gui = True, mode=\"solver\", fluent_path=fluent_path)\n",
    "solver.health_check.is_serving"
   ]
  },
  {
   "cell_type": "markdown",
   "id": "5592674d",
   "metadata": {},
   "source": [
    "# Load in .cas File\n",
    ".cas (case files) contains the entire setup information (the overall mesh, boundary conditions, mesh interfaces, etc.)"
   ]
  },
  {
   "cell_type": "code",
   "execution_count": 4,
   "id": "c85703d0",
   "metadata": {},
   "outputs": [
    {
     "name": "stdout",
     "output_type": "stream",
     "text": [
      "Fast-loading \"C:\\PROGRA~1\\ANSYSI~1\\v242\\fluent\\fluent24.2.0\\\\addons\\afd\\lib\\hdfio.bin\"\n",
      "Done.\n",
      "Multicore processors detected. Processor affinity set!\n",
      "\n",
      "Reading from caenvdi2024-35:\"\\\\engin-labs.m.storage.umich.edu\\engin-labs\\home\\jacc\\windat.v2\\Desktop\\1.8.cas.h5\" in NODE0 mode ...\n",
      "  Reading mesh ...\n",
      "       70016 cells,     4 cell zones ...\n",
      "           1764 hexahedral cells,  zone id: 7\n",
      "            777 hexahedral cells,  zone id: 8\n",
      "          36202 tetrahedral cells,  zone id: 6\n",
      "          31273 tetrahedral cells,  zone id: 9\n",
      "      150853 faces,    24 face zones ...\n",
      "              1 mixed wall face ,  zone id: 28\n",
      "             94 mixed interior faces,  zone id: 16\n",
      "             70 mixed interior faces,  zone id: 1\n",
      "           4490 quadrilateral interior faces,  zone id: 3\n",
      "           2014 quadrilateral interior faces,  zone id: 4\n",
      "          69917 triangular interior faces,  zone id: 2\n",
      "          58037 triangular interior faces,  zone id: 5\n",
      "            588 quadrilateral symmetry faces,  zone id: 13\n",
      "            222 quadrilateral symmetry faces,  zone id: 14\n",
      "           1340 triangular symmetry faces,  zone id: 12\n",
      "           2402 triangular symmetry faces,  zone id: 15\n",
      "            980 quadrilateral wall faces,  zone id: 71\n",
      "            370 quadrilateral wall faces,  zone id: 17\n",
      "           6552 triangular wall faces,  zone id: 18\n",
      "           2696 triangular wall faces,  zone id: 152\n",
      "             18 quadrilateral interface faces,  zone id: 19\n",
      "             21 quadrilateral interface faces,  zone id: 20\n",
      "             18 quadrilateral interface faces,  zone id: 21\n",
      "             32 triangular interface faces,  zone id: 22\n",
      "            884 triangular wall faces,  zone id: 23\n",
      "             27 triangular wall faces,  zone id: 24\n",
      "             21 quadrilateral wall faces,  zone id: 25\n",
      "             27 triangular wall faces,  zone id: 26\n",
      "             32 triangular wall faces,  zone id: 27\n",
      "       18918 nodes,     1 node zone  ...\n",
      "  Done.\n",
      "\n",
      "\n",
      "Building...\n",
      "     mesh\n",
      "     materials,\n",
      "     interface,\n",
      "     domains,\n",
      "\tmixture\n",
      "     zones,\n",
      "\tleft_interface_unheated_2-contact_region_4-trg\n",
      "\tleft_interface_unheated_1-contact_region_3-trg\n",
      "\tleft_interface_heated_1-contact_region_3-src\n",
      "\topening_wall\n",
      "\tunheated_wall-fff_unheated_section\n",
      "\tunheated_wall-fff_left_unheated\n",
      "\theated_wall\n",
      "\tsymmetry-fff_unheated_section\n",
      "\tsymmetry-fff_opening\n",
      "\tsymmetry-fff_left_unheated\n",
      "\tsymmetry-fff_heated_section\n",
      "\tinterior-fff_unheated_section\n",
      "\tinterior-fff_opening\n",
      "\tinterior-fff_left_unheated\n",
      "\tinterior-fff_heated_section\n",
      "\tright_interface_bottom-contact_region_6-trg\n",
      "\tleft_interface_bottom-contact_region_5-trg\n",
      "\topening_wall-contact_region_5-src\n",
      "\tright_inlet-contact_region_6-src\n",
      "\tleft_inlet-contact_region_5-src\n",
      "\tleft_interface_heated_2-contact_region_4-src\n",
      "\tleft_interface_unheated_1-contact_region_3-trg-non-overlapping\n",
      "\tleft_interface_heated_1-contact_region_3-src-non-overlapping\n",
      "\tintf:01-interior-1-1\n",
      "\tleft_interface_unheated_2-contact_region_4-trg-non-overlapping\n",
      "\tleft_interface_heated_2-contact_region_4-src-non-overlapping\n",
      "\tintf:02-interior-1-1\n",
      "\tfff_unheated_section\n",
      "\tfff_opening\n",
      "\tfff_left_unheated\n",
      "\tfff_heated_section\n",
      " define/operating-conditions/operating-density? yes 0.\n",
      "\n",
      "     mesh interfaces,\n",
      "     parallel,\n",
      "\n",
      "Info: At least one many-to-many mesh interface is found in the case file. Such mesh interfaces will not be available in a future release of Fluent. It is recommended to convert to the current default one-to-one mesh interfaces with the following text command:\n",
      "/define/mesh-interfaces/one-to-one-pairing? yes\n",
      "\n",
      "Done.\n"
     ]
    }
   ],
   "source": [
    "#solver.file.read_mesh(file_name = \"htgr1.7.msh\")\n",
    "#solver.file.read_mesh(file_name = \"htgr_v242file.msh\")\n",
    "#solver.file.read_mesh(file_name = \"737.msh\")\n",
    "\n",
    "case_file_path = \"1.8.cas.h5\" \n",
    "solver.file.read(file_type=\"case\", file_name=case_file_path)\n",
    "\n",
    "\n",
    "\n",
    "#wbpj_file = \"Fluent_ONC_12_11_24.wbpj\"\n",
    "#solver.file.read(file_type=\"wbpj\", file_name=wbpj_file)"
   ]
  },
  {
   "cell_type": "markdown",
   "id": "e9f2cc09",
   "metadata": {},
   "source": [
    "## Initialize Problem with Hybrid Model\n",
    "You can use standard initialization as well"
   ]
  },
  {
   "cell_type": "code",
   "execution_count": 5,
   "id": "0fea52a3",
   "metadata": {},
   "outputs": [
    {
     "name": "stdout",
     "output_type": "stream",
     "text": [
      "\n",
      "Initialize using the hybrid initialization method.\n",
      "\n",
      "Checking case topology... \n",
      "-This case has no inlets & no outlets \n",
      "-Case will be initialized with constant parameters\n",
      "\n",
      "Hybrid initialization is done.\n"
     ]
    }
   ],
   "source": [
    "solver.solution.initialization.hybrid_initialize()"
   ]
  },
  {
   "cell_type": "markdown",
   "id": "430bfb9e",
   "metadata": {},
   "source": [
    "## Run calculation with iteration count"
   ]
  },
  {
   "cell_type": "code",
   "execution_count": 6,
   "id": "34a4c189",
   "metadata": {},
   "outputs": [
    {
     "name": "stdout",
     "output_type": "stream",
     "text": [
      "\n",
      "  iter  continuity  x-velocity  y-velocity  z-velocity      energy     time/iter\n",
      "     1  0.0000e+00  0.0000e+00  5.8440e-02  0.0000e+00  4.5645e-04  0:00:09    9\n",
      "     2  1.0000e+00  4.4541e-02  1.0641e-01  4.4587e-02  4.9099e-04  0:00:10    8\n",
      "     3  6.1823e-01  3.9235e-02  5.3765e-02  3.8768e-02  3.0600e-04  0:00:07    7\n",
      "     4  3.9271e-01  2.8247e-02  4.0583e-02  2.8036e-02  2.6007e-04  0:00:06    6\n",
      "     5  2.7672e-01  7.1130e-02  9.2215e-02  7.0383e-02  2.4533e-04  0:00:05    5\n",
      "     6  2.3092e-01  1.0849e-01  1.3800e-01  1.0859e-01  1.9632e-04  0:00:03    4\n",
      "     7  1.9292e-01  6.8048e-02  8.5695e-02  6.8293e-02  1.7766e-04  0:00:02    3\n",
      "     8  1.5584e-01  5.2978e-02  6.5879e-02  5.3114e-02  1.5544e-04  0:00:02    2\n",
      "     9  1.2772e-01  4.4884e-02  5.4658e-02  4.4362e-02  1.4632e-04  0:00:01    1\n",
      "    10  1.1027e-01  3.7836e-02  4.7079e-02  3.7654e-02  1.3763e-04  0:00:00    0\n"
     ]
    }
   ],
   "source": [
    "solver.solution.run_calculation.iterate(iter_count = 10)"
   ]
  },
  {
   "cell_type": "markdown",
   "id": "4736d4ef",
   "metadata": {},
   "source": [
    "## Create and Save Temperature Contour Plot"
   ]
  },
  {
   "cell_type": "code",
   "execution_count": 7,
   "id": "0da8ef10",
   "metadata": {},
   "outputs": [],
   "source": [
    "solver.results.graphics.contour.create(\"temperature-contour-plot\")\n",
    "solver.results.graphics.contour[\"temperature-contour-plot\"](field = \"temperature\", surfaces_list = [\"fff_heated_section\", \"fff_left_unheated\", \"fff_opening\", \"fff_unheated_section\", \"heated_unheated_interface-contact_region_3-src\", \"unheated_heated_interface-contact_region_3-trg\", \"unheated_heated_interface-contact_region_4-trg\",\"symmetry-fff_heated_section\",\"symmetry-fff_left_unheated\",\"symmetry-fff_opening\",\"symmetry-fff_unheated_section\",\"opening_wall\",\"unheated_wall-fff_left_unheated\",\"unheated_wall-fff_unheated_section\"])\n",
    "solver.results.graphics.contour[\"temperature-contour-plot\"].display()\n",
    "solver.results.graphics.views.auto_scale()\n",
    "solver.results.graphics.picture.save_picture(file_name = \"temperature\")\n"
   ]
  },
  {
   "cell_type": "markdown",
   "id": "926c0fc4",
   "metadata": {},
   "source": [
    "## Display Temperature Plot in Jupyter"
   ]
  },
  {
   "cell_type": "code",
   "execution_count": 8,
   "id": "68d8572a",
   "metadata": {},
   "outputs": [
    {
     "data": {
      "image/png": "[encoded data removed]",
      "text/plain": [
       "<Figure size 640x480 with 1 Axes>"
      ]
     },
     "metadata": {},
     "output_type": "display_data"
    }
   ],
   "source": [
    "import matplotlib.pyplot as plt\n",
    "import matplotlib.image as image\n",
    "tempimage = image.imread(\"temperature.png\")\n",
    "plt.imshow(tempimage)\n",
    "#plt.axis('off')  \n",
    "plt.show()"
   ]
  },
  {
   "cell_type": "markdown",
   "id": "7a273efb",
   "metadata": {},
   "source": [
    "## Exit Ansys Fluent Session"
   ]
  },
  {
   "cell_type": "code",
   "execution_count": null,
   "id": "69c36f49",
   "metadata": {},
   "outputs": [],
   "source": [
    "solver.exit()"
   ]
  },
  {
   "cell_type": "code",
   "execution_count": null,
   "id": "6a84a110",
   "metadata": {},
   "outputs": [],
   "source": []
  },
  {
   "cell_type": "markdown",
   "id": "02d25471",
   "metadata": {},
   "source": [
    "## Ignore this from here down"
   ]
  },
  {
   "cell_type": "code",
   "execution_count": null,
   "id": "416dcff1",
   "metadata": {},
   "outputs": [],
   "source": [
    "#solver.setup.materials()"
   ]
  },
  {
   "cell_type": "code",
   "execution_count": null,
   "id": "8c31aa3e",
   "metadata": {},
   "outputs": [],
   "source": [
    "#viscous = pyfluent.solver.Viscous(settings_source=solver)\n",
    "#viscous.model = 'laminar'"
   ]
  },
  {
   "cell_type": "code",
   "execution_count": null,
   "id": "48b6ec03",
   "metadata": {},
   "outputs": [],
   "source": []
  },
  {
   "cell_type": "code",
   "execution_count": null,
   "id": "c101abe5",
   "metadata": {},
   "outputs": [],
   "source": [
    "#models = pyfluent.solver.Models(settings_source=solver)"
   ]
  },
  {
   "cell_type": "code",
   "execution_count": null,
   "id": "f1c25bb2",
   "metadata": {},
   "outputs": [],
   "source": [
    "#models.print_state()"
   ]
  },
  {
   "cell_type": "code",
   "execution_count": null,
   "id": "231bd7b5",
   "metadata": {},
   "outputs": [],
   "source": []
  },
  {
   "cell_type": "code",
   "execution_count": null,
   "id": "f3da693b",
   "metadata": {},
   "outputs": [],
   "source": [
    "#solver.setup.materials.database.list_materials()"
   ]
  },
  {
   "cell_type": "code",
   "execution_count": null,
   "id": "03d0c1b8",
   "metadata": {},
   "outputs": [],
   "source": [
    "#solver.setup.materials.database.copy_by_name.argument_names"
   ]
  },
  {
   "cell_type": "code",
   "execution_count": null,
   "id": "817f6bc9",
   "metadata": {},
   "outputs": [],
   "source": [
    "#solver.setup.materials.database.copy_by_name(type = 'fluid', name = 'helium')"
   ]
  },
  {
   "cell_type": "code",
   "execution_count": null,
   "id": "e1686894",
   "metadata": {},
   "outputs": [],
   "source": [
    "#solver.setup.materials.list_materials()"
   ]
  },
  {
   "cell_type": "code",
   "execution_count": null,
   "id": "b63807ba",
   "metadata": {},
   "outputs": [],
   "source": [
    "#solver.setup.cell_zone_conditions.fluid['fff_opening'].material = 'helium'"
   ]
  },
  {
   "cell_type": "code",
   "execution_count": null,
   "id": "60e913ee",
   "metadata": {},
   "outputs": [],
   "source": [
    "#solver.setup.cell_zone_conditions.fluid()  # NOT SURE WHAT PART HAS HELIUM ASK, we can change it easily tho"
   ]
  },
  {
   "cell_type": "code",
   "execution_count": null,
   "id": "13a2f7a7",
   "metadata": {},
   "outputs": [],
   "source": [
    "#print(dir(solver.file))\n",
    "    \n",
    "#solver.setup.boundary_conditions))"
   ]
  },
  {
   "cell_type": "code",
   "execution_count": null,
   "id": "ae7ac565",
   "metadata": {},
   "outputs": [],
   "source": [
    "#print(dir(\n",
    "#solver.setup.boundary_conditions.velocity_inlet()"
   ]
  },
  {
   "cell_type": "code",
   "execution_count": null,
   "id": "cae9402e",
   "metadata": {},
   "outputs": [],
   "source": []
  },
  {
   "cell_type": "code",
   "execution_count": null,
   "id": "ec815a7e",
   "metadata": {},
   "outputs": [],
   "source": []
  },
  {
   "cell_type": "code",
   "execution_count": null,
   "id": "4c8a83b1",
   "metadata": {},
   "outputs": [],
   "source": []
  },
  {
   "cell_type": "code",
   "execution_count": null,
   "id": "37f3b7c8",
   "metadata": {},
   "outputs": [],
   "source": [
    "#available_surfaces = solver.tui.surface.list_surfaces()\n",
    "#print(available_surfaces)"
   ]
  },
  {
   "cell_type": "code",
   "execution_count": null,
   "id": "2ed1d1fc",
   "metadata": {},
   "outputs": [],
   "source": []
  },
  {
   "cell_type": "code",
   "execution_count": null,
   "id": "99b79ac9",
   "metadata": {},
   "outputs": [],
   "source": []
  },
  {
   "cell_type": "code",
   "execution_count": null,
   "id": "f1a9b164",
   "metadata": {},
   "outputs": [],
   "source": []
  }
 ],
 "metadata": {
  "kernelspec": {
   "display_name": "Python 3 (ipykernel)",
   "language": "python",
   "name": "python3"
  },
  "language_info": {
   "codemirror_mode": {
    "name": "ipython",
    "version": 3
   },
   "file_extension": ".py",
   "mimetype": "text/x-python",
   "name": "python",
   "nbconvert_exporter": "python",
   "pygments_lexer": "ipython3",
   "version": "3.11.3"
  }
 },
 "nbformat": 4,
 "nbformat_minor": 5
}
